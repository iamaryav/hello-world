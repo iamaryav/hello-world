{
 "cells": [
  {
   "cell_type": "code",
   "execution_count": 2,
   "metadata": {},
   "outputs": [
    {
     "name": "stdout",
     "output_type": "stream",
     "text": [
      "{'status': 'success', 'country': 'Canada', 'countryCode': 'CA', 'region': 'QC', 'regionName': 'Quebec', 'city': 'Montreal', 'zip': 'H3H', 'lat': 45.5075, 'lon': -73.5887, 'timezone': 'America/Toronto', 'isp': 'Le Groupe Videotron Ltee', 'org': 'Videotron Ltee', 'as': 'AS5769 Videotron Telecom Ltee', 'query': '24.48.0.1'}\n",
      "None\n"
     ]
    }
   ],
   "source": [
    "# Getting the location from IP address\n",
    "import requests as rq\n",
    "\n",
    "def get_location_from_ipaddress(ip_address):\n",
    "    ip = \"24.48.0.1\"\n",
    "    url = \"http://ip-api.com/json/\" + ip\n",
    "    response = rq.get(url)\n",
    "    data = response.json()\n",
    "    print(data)\n",
    "\n",
    "if __name__ == \"__main__\":\n",
    "    print(get_location_from_ipaddress(123))\n"
   ]
  }
 ],
 "metadata": {
  "kernelspec": {
   "display_name": "Python 3",
   "language": "python",
   "name": "python3"
  },
  "language_info": {
   "codemirror_mode": {
    "name": "ipython",
    "version": 3
   },
   "file_extension": ".py",
   "mimetype": "text/x-python",
   "name": "python",
   "nbconvert_exporter": "python",
   "pygments_lexer": "ipython3",
   "version": "3.11.2"
  },
  "orig_nbformat": 4
 },
 "nbformat": 4,
 "nbformat_minor": 2
}
