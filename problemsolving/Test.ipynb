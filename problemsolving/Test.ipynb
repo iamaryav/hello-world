{
 "cells": [
  {
   "cell_type": "code",
   "execution_count": null,
   "metadata": {},
   "outputs": [],
   "source": [
    "# Optimize one\n",
    "\n",
    "def allSolutions(n):\n",
    "    result = {}\n",
    "    for c in range(1, 1001):\n",
    "        for d in range(1, 1001):\n",
    "            powSum = pow(c, 3) + pow(d, 3)\n",
    "            if powSum in result:\n",
    "                result[powSum] = result[powSum].append((c, d))\n",
    "            else:\n",
    "                result[powSum] = [(c, d)]\n",
    "    print(result)\n",
    "             \n",
    "allSolutions(1000)"
   ]
  },
  {
   "attachments": {},
   "cell_type": "markdown",
   "metadata": {},
   "source": [
    "Tasks\n",
    "create own implementation of \n",
    ". Hash Table\n",
    ". Array List, Dynamic Array\n",
    ". String Builder to concatination"
   ]
  },
  {
   "cell_type": "code",
   "execution_count": null,
   "metadata": {},
   "outputs": [],
   "source": []
  }
 ],
 "metadata": {
  "kernelspec": {
   "display_name": "Python 3",
   "language": "python",
   "name": "python3"
  },
  "language_info": {
   "codemirror_mode": {
    "name": "ipython",
    "version": 3
   },
   "file_extension": ".py",
   "mimetype": "text/x-python",
   "name": "python",
   "nbconvert_exporter": "python",
   "pygments_lexer": "ipython3",
   "version": "3.11.2"
  },
  "orig_nbformat": 4
 },
 "nbformat": 4,
 "nbformat_minor": 2
}
